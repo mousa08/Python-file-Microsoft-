{
  "cells": [
    {
      "metadata": {},
      "cell_type": "markdown",
      "source": "# 1-3 Intro Python Practice\n## Functions Arguments & Parameters\n<font size=\"5\" color=\"#00A0B2\"  face=\"verdana\"> <B>Student will be able to</B></font>  \n- **create functions with a parameter**  \n- **create functions with a `return` value** \n- **create functions with multiple parameters**\n- **use knowledge of sequence in coding tasks**  \n- **use coding best practices** "
    },
    {
      "metadata": {},
      "cell_type": "markdown",
      "source": "## &nbsp;\n<font size=\"6\" color=\"#B24C00\"  face=\"verdana\"> <B>Tasks</B></font>"
    },
    {
      "metadata": {
        "trusted": false
      },
      "cell_type": "code",
      "source": "# [ ] define and call a function short_rhyme() that prints a 2 line rhyme\n\n",
      "execution_count": null,
      "outputs": []
    },
    {
      "metadata": {
        "trusted": false
      },
      "cell_type": "code",
      "source": "# [ ] define (def) a simple function: title_it() and call the function\n# - has a string parameter: msg\n# - prints msg in Title Case\n\n",
      "execution_count": null,
      "outputs": []
    },
    {
      "metadata": {
        "trusted": false
      },
      "cell_type": "code",
      "source": "# [ ] get user input with prompt \"what is the title?\" \n# [ ] call title_it() using input for the string argument\n\n",
      "execution_count": null,
      "outputs": []
    },
    {
      "metadata": {
        "trusted": false
      },
      "cell_type": "code",
      "source": "# [ ] define title_it_rtn() which returns a titled string instead of printing\n# [ ] call title_it_rtn() using input for the string argumetnt and print the result\n\n",
      "execution_count": null,
      "outputs": []
    },
    {
      "metadata": {},
      "cell_type": "markdown",
      "source": "## Program: bookstore()\ncreate and test bookstore()\n- **bookstore() takes 2 string arguments: book & price**\n- **bookstore returns a string in sentence form** \n- **bookstore() should call title_it_rtn()** with book parameter  \n- **gather input for book_entry and price_entry to use in calling bookstore()**\n- **print the return value of bookstore()**\n>example of output: **`Title: The Adventures Of Sherlock Holmes, costs $12.99`**"
    },
    {
      "metadata": {
        "trusted": true
      },
      "cell_type": "code",
      "source": "\n\ndef book_store(book, price):\n    title_it_rtn()\n\n    return \"Title: \" + book + \", costs \" + price\n\ndef title_it_rtn():\n    book_choice = input(\"Enter books title: \")\n    book_price = input(\"Enter books price: \")\n\nprint (book_store(book_choice, book_price))",
      "execution_count": 8,
      "outputs": [
        {
          "output_type": "stream",
          "name": "stdout",
          "text": "Enter books title: book\nEnter books price: 55\nTitle: book, costs 55\n"
        }
      ]
    },
    {
      "metadata": {},
      "cell_type": "markdown",
      "source": "### Fix the error"
    },
    {
      "metadata": {
        "trusted": true
      },
      "cell_type": "code",
      "source": "def make_greeting(name, greeting = \"Hello\"):\n    return (greeting + \" \" + name + \"!\")\n\n\ndef get_name():\n    name_entry = input(\"enter a name: \")\n    return name_entry.title()\n\ndef get_greeting():\n    greeting_entry = input(\"enter a greeting: \")\n    return greeting_entry.title()\n\n\n# get name and greeting, send to make_greeting \nprint(make_greeting(get_name(), get_greeting()))\n\n",
      "execution_count": 14,
      "outputs": [
        {
          "output_type": "stream",
          "name": "stdout",
          "text": "enter a name: haak\nenter a greeting: 15\n15 Haak!\n"
        }
      ]
    },
    {
      "metadata": {},
      "cell_type": "markdown",
      "source": "\n[Terms of use](http://go.microsoft.com/fwlink/?LinkID=206977) &nbsp; [Privacy & cookies](https://go.microsoft.com/fwlink/?LinkId=521839) &nbsp; © 2017 Microsoft"
    }
  ],
  "metadata": {
    "anaconda-cloud": {},
    "kernelspec": {
      "name": "python3",
      "display_name": "Python 3",
      "language": "python"
    },
    "language_info": {
      "mimetype": "text/x-python",
      "nbconvert_exporter": "python",
      "name": "python",
      "pygments_lexer": "ipython3",
      "version": "3.5.4",
      "file_extension": ".py",
      "codemirror_mode": {
        "version": 3,
        "name": "ipython"
      }
    }
  },
  "nbformat": 4,
  "nbformat_minor": 1
}